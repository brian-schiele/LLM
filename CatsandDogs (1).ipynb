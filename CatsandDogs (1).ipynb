{
  "nbformat": 4,
  "nbformat_minor": 0,
  "metadata": {
    "colab": {
      "provenance": []
    },
    "kernelspec": {
      "name": "python3",
      "display_name": "Python 3"
    },
    "language_info": {
      "name": "python"
    }
  },
  "cells": [
    {
      "cell_type": "markdown",
      "source": [
        "## Loading data"
      ],
      "metadata": {
        "id": "0D85rnQ1V6jW"
      }
    },
    {
      "cell_type": "code",
      "execution_count": null,
      "metadata": {
        "id": "uc2GYRZzKyzh"
      },
      "outputs": [],
      "source": [
        "!wget --no-check-certificate \\\n",
        "    https://storage.googleapis.com/mledu-datasets/cats_and_dogs_filtered.zip \\\n",
        "    -O /tmp/cats_and_dogs_filtered.zip\n",
        "\n",
        "import os\n",
        "import zipfile\n",
        "\n",
        "local_zip = '/tmp/cats_and_dogs_filtered.zip'\n",
        "zip_ref = zipfile.ZipFile(local_zip, 'r')\n",
        "zip_ref.extractall('/tmp')\n",
        "zip_ref.close()\n",
        "\n",
        "base_dir = '/tmp/cats_and_dogs_filtered'\n",
        "train_dir = os.path.join(base_dir, 'train')\n",
        "validation_dir = os.path.join(base_dir, 'validation')"
      ]
    },
    {
      "cell_type": "markdown",
      "source": [
        "## Reading the Data into arrays"
      ],
      "metadata": {
        "id": "xgEKdtTjV8Sx"
      }
    },
    {
      "cell_type": "code",
      "source": [
        "import os\n",
        "from PIL import Image\n",
        "import numpy as np\n",
        "\n",
        "# Initialize empty arrays for training data\n",
        "x_train = np.empty((100, 150, 150, 3), dtype=np.uint8)  # Use uint8 for image data\n",
        "y_train = np.empty((100), dtype=int)\n",
        "\n",
        "# Define directories\n",
        "cats_dir = os.path.join(train_dir, \"cats\")\n",
        "dogs_dir = os.path.join(train_dir, \"dogs\")\n",
        "\n",
        "\n",
        "# Load images\n",
        "i = 0\n",
        "cat_index = 0\n",
        "dog_index = 0\n",
        "\n",
        "while i < 100:\n",
        "    if i % 2 == 0:\n",
        "        # Load and resize cat images\n",
        "        im = Image.open(os.path.join(cats_dir, os.listdir(cats_dir)[cat_index])).convert(\"RGB\").resize((150, 150))\n",
        "        x_train[i] = np.array(im)  # Assign to x_train\n",
        "        y_train[i] = 1  # Assign label for cat\n",
        "        cat_index += 1  # Move to the next cat image\n",
        "    else:\n",
        "        # Load and resize dog images\n",
        "        im = Image.open(os.path.join(dogs_dir, os.listdir(dogs_dir)[dog_index])).convert(\"RGB\").resize((150, 150))\n",
        "        x_train[i] = np.array(im)  # Assign to x_train\n",
        "        y_train[i] = 0  # Assign label for dog\n",
        "        dog_index += 1  # Move to the next dog image\n",
        "    i += 1\n",
        "\n",
        "print(\"Shape of x_train:\", x_train.shape)\n",
        "print(\"Shape of y_train:\", y_train.shape)\n"
      ],
      "metadata": {
        "id": "QOhkfFT1K4o1"
      },
      "execution_count": null,
      "outputs": []
    },
    {
      "cell_type": "markdown",
      "source": [
        "## Beginning to define the model (this is where you come in, I loaded the pretrained model for you)"
      ],
      "metadata": {
        "id": "t7R64c0tV-zh"
      }
    },
    {
      "cell_type": "code",
      "source": [
        "import tensorflow as tf\n",
        "import numpy as np\n",
        "from tensorflow.keras import Sequential\n",
        "from tensorflow.keras.layers import Flatten, Dense\n",
        "from tensorflow.keras.optimizers import Adam\n",
        "import matplotlib.pyplot as plt\n",
        "\n",
        "# Load the pretrained ResNet50 model\n",
        "pretrained_model = tf.keras.applications.ResNet50(\n",
        "    include_top=False,\n",
        "    input_shape=(150, 150, 3),\n",
        "    pooling='avg',\n",
        "    weights='imagenet'\n",
        ")\n",
        "\n",
        "# Freeze the layers in the pretrained model\n",
        "for layer in pretrained_model.layers:\n",
        "    layer.trainable = False\n",
        "\n",
        "# Build the model\n",
        "resnet_model = Sequential()\n",
        "resnet_model.add(pretrained_model)\n",
        "resnet_model.add(Flatten())\n",
        "resnet_model.add(Dense(512, activation='relu'))\n",
        "resnet_model.add(Dense(1, activation='sigmoid'))  # Change to 1 neuron for binary classification\n",
        "\n",
        "# Print the model summary to check the architecture\n",
        "\n",
        "# Compile the model\n",
        "resnet_model.compile(optimizer=Adam(learning_rate=0.001),\n",
        "                     loss='binary_crossentropy',\n",
        "                     metrics=['accuracy'])\n",
        "\n",
        "# Train the model (ensure x_train and y_train are defined and preprocessed)\n",
        "epochs = 10\n",
        "history = resnet_model.fit(np.array(x_train), np.array(y_train), epochs=epochs, validation_split=0.2)\n",
        "\n",
        "# Optionally, visualize training history\n",
        "plt.plot(history.history['accuracy'], label='accuracy')\n",
        "plt.plot(history.history['val_accuracy'], label='val_accuracy')\n",
        "plt.xlabel('Epoch')\n",
        "plt.ylabel('Accuracy')\n",
        "plt.legend()\n",
        "plt.show()\n"
      ],
      "metadata": {
        "id": "7zGbGnknK6uG"
      },
      "execution_count": null,
      "outputs": []
    },
    {
      "cell_type": "code",
      "source": [
        "'''\n",
        "#test_data = os.path.join(validation_dir)\n",
        "for i in range(len(validation_dir)):\n",
        "  #image = Image.open(test_data[i]).convert(\"RGB\").resize((150, 150))\n",
        "  im = Image.open(os.path.join(validation_dir, os.listdir(validation_dir)[i])).convert(\"RGB\").resize((150, 150))\n",
        "  image_array = np.array(im)\n",
        "  image_array = np.expand_dims(image_array, axis=0)\n",
        "  prediction = resnet_model.predict(image_array)\n",
        "  print(f\"Prediction for {validation_dir[i]}: {prediction}\")\n",
        "'''\n",
        "\n",
        "import os\n",
        "from PIL import Image\n",
        "import numpy as np\n",
        "\n",
        "# Directory containing validation images\n",
        "validation_dir = \"/tmp/cats_and_dogs_filtered/validation\"  # Set this to your actual path\n",
        "image_files = os.listdir(validation_dir)\n",
        "\n",
        "# Loop through each subdirectory (e.g., 'cats' and 'dogs')\n",
        "right = 0\n",
        "total = 0\n",
        "for sub_dir in os.listdir(validation_dir):\n",
        "    sub_dir_path = os.path.join(validation_dir, sub_dir)\n",
        "    if os.path.isdir(sub_dir_path):  # Check if it's a directory\n",
        "        for image_file in os.listdir(sub_dir_path):\n",
        "            # Construct the full path to the image\n",
        "            image_path = os.path.join(sub_dir_path, image_file)\n",
        "\n",
        "            # Load and preprocess the image\n",
        "            im = Image.open(image_path).convert(\"RGB\").resize((150, 150))\n",
        "            image_array = np.array(im)\n",
        "\n",
        "            # Expand dimensions to fit the model input\n",
        "            image_array = np.expand_dims(image_array, axis=0)  # Shape (1, 150, 150, 3)\n",
        "\n",
        "            # Normalize the image array\n",
        "            image_array = image_array / 255.0  # Scale to [0, 1]\n",
        "\n",
        "            # Make a prediction\n",
        "            prediction = resnet_model.predict(image_array)\n",
        "\n",
        "            # Interpret the prediction (assuming binary classification)\n",
        "            predicted_class = 1 if prediction[0][0] > 0.5 else 0  # Adjust threshold as needed\n",
        "            if predicted_class == 1:\n",
        "                predicted_class = \"dog\"\n",
        "            else:\n",
        "                predicted_class = \"cat\"\n",
        "            correct = str(image_file)\n",
        "            correct = correct[0:3]\n",
        "            if predicted_class == correct:\n",
        "                right += 1\n",
        "            total += 1\n",
        "            # Print the prediction\n",
        "print(\"overall accuracy\" + str(right/total))\n",
        "\n"
      ],
      "metadata": {
        "id": "r59exZvBmFlT",
        "collapsed": true
      },
      "execution_count": null,
      "outputs": []
    }
  ]
}